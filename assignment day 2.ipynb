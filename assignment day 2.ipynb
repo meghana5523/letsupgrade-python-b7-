{
 "cells": [
  {
   "cell_type": "code",
   "execution_count": 1,
   "metadata": {},
   "outputs": [
    {
     "name": "stdout",
     "output_type": "stream",
     "text": [
      "2 - prime number\n",
      "3 - prime number\n",
      "5 - prime number\n",
      "7 - prime number\n",
      "11 - prime number\n",
      "13 - prime number\n",
      "17 - prime number\n",
      "19 - prime number\n",
      "23 - prime number\n",
      "29 - prime number\n",
      "31 - prime number\n",
      "37 - prime number\n",
      "41 - prime number\n",
      "43 - prime number\n",
      "47 - prime number\n",
      "53 - prime number\n",
      "59 - prime number\n",
      "61 - prime number\n",
      "67 - prime number\n",
      "71 - prime number\n",
      "73 - prime number\n",
      "79 - prime number\n",
      "83 - prime number\n",
      "89 - prime number\n",
      "97 - prime number\n",
      "101 - prime number\n",
      "103 - prime number\n",
      "107 - prime number\n",
      "109 - prime number\n",
      "113 - prime number\n",
      "127 - prime number\n",
      "131 - prime number\n",
      "137 - prime number\n",
      "139 - prime number\n",
      "149 - prime number\n",
      "151 - prime number\n",
      "157 - prime number\n",
      "163 - prime number\n",
      "167 - prime number\n",
      "173 - prime number\n",
      "179 - prime number\n",
      "181 - prime number\n",
      "191 - prime number\n",
      "193 - prime number\n",
      "197 - prime number\n",
      "199 - prime number\n"
     ]
    }
   ],
   "source": [
    "for i in range(2,200):\n",
    "    for j in range(2,i):\n",
    "        if(i%j==0): \n",
    "            break\n",
    "    else:\n",
    "        print(i,\"-\",\"prime number\")"
   ]
  },
  {
   "cell_type": "code",
   "execution_count": null,
   "metadata": {},
   "outputs": [],
   "source": []
  }
 ],
 "metadata": {
  "kernelspec": {
   "display_name": "Python 3",
   "language": "python",
   "name": "python3"
  },
  "language_info": {
   "codemirror_mode": {
    "name": "ipython",
    "version": 3
   },
   "file_extension": ".py",
   "mimetype": "text/x-python",
   "name": "python",
   "nbconvert_exporter": "python",
   "pygments_lexer": "ipython3",
   "version": "3.8.3"
  }
 },
 "nbformat": 4,
 "nbformat_minor": 4
}
